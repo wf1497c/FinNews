{
 "cells": [
  {
   "cell_type": "code",
   "execution_count": 1,
   "metadata": {},
   "outputs": [],
   "source": [
    "import pandas as pd\n",
    "import yfinance as yf"
   ]
  },
  {
   "cell_type": "code",
   "execution_count": null,
   "metadata": {},
   "outputs": [],
   "source": [
    "s = yf.Ticker(\"AACIW\")\n",
    "\n",
    "# collect price history within the period\n",
    "hist = s.history(period=\"\")"
   ]
  },
  {
   "cell_type": "code",
   "execution_count": 6,
   "metadata": {},
   "outputs": [
    {
     "data": {
      "text/plain": [
       "['A', 'AA', 'AAC', 'AACG', 'AACI']"
      ]
     },
     "execution_count": 6,
     "metadata": {},
     "output_type": "execute_result"
    }
   ],
   "source": [
    "import os\n",
    "\n",
    "# Collect data by 1 day\n",
    "period = \"1d\"\n",
    "\n",
    "# Dataframe recording all price histories\n",
    "hists = pd.DataFrame([])\n",
    "\n",
    "# just read the list\n",
    "path = os.path.abspath(\"/home/wf1497c/ML/FinNews/references/valid_stock_list.txt\")\n",
    "with open(path, \"r\") as f:\n",
    "    valid_stocks_list = f.readlines()\n",
    "\n",
    "valid_stocks_list = [v.replace(\"\\n\",\"\") for v in valid_stocks_list]\n",
    "valid_stocks_list"
   ]
  },
  {
   "cell_type": "code",
   "execution_count": 8,
   "metadata": {},
   "outputs": [
    {
     "data": {
      "text/html": [
       "<div>\n",
       "<style scoped>\n",
       "    .dataframe tbody tr th:only-of-type {\n",
       "        vertical-align: middle;\n",
       "    }\n",
       "\n",
       "    .dataframe tbody tr th {\n",
       "        vertical-align: top;\n",
       "    }\n",
       "\n",
       "    .dataframe thead th {\n",
       "        text-align: right;\n",
       "    }\n",
       "</style>\n",
       "<table border=\"1\" class=\"dataframe\">\n",
       "  <thead>\n",
       "    <tr style=\"text-align: right;\">\n",
       "      <th></th>\n",
       "      <th>Open</th>\n",
       "      <th>High</th>\n",
       "      <th>Low</th>\n",
       "      <th>Close</th>\n",
       "      <th>Volume</th>\n",
       "      <th>Date</th>\n",
       "      <th>Symbol</th>\n",
       "    </tr>\n",
       "  </thead>\n",
       "  <tbody>\n",
       "    <tr>\n",
       "      <th>0</th>\n",
       "      <td>122.624578</td>\n",
       "      <td>124.727797</td>\n",
       "      <td>120.98985</td>\n",
       "      <td>121.159309</td>\n",
       "      <td>1624200</td>\n",
       "      <td>1664496000000</td>\n",
       "      <td>A</td>\n",
       "    </tr>\n",
       "    <tr>\n",
       "      <th>1</th>\n",
       "      <td>122.547237</td>\n",
       "      <td>127.110431</td>\n",
       "      <td>121.498798</td>\n",
       "      <td>126.191795</td>\n",
       "      <td>1343200</td>\n",
       "      <td>1664755200000</td>\n",
       "      <td>A</td>\n",
       "    </tr>\n",
       "    <tr>\n",
       "      <th>2</th>\n",
       "      <td>128.598201</td>\n",
       "      <td>131.36408</td>\n",
       "      <td>128.378543</td>\n",
       "      <td>131.21431</td>\n",
       "      <td>1647800</td>\n",
       "      <td>1664841600000</td>\n",
       "      <td>A</td>\n",
       "    </tr>\n",
       "    <tr>\n",
       "      <th>3</th>\n",
       "      <td>129.796427</td>\n",
       "      <td>133.331148</td>\n",
       "      <td>129.307151</td>\n",
       "      <td>132.442474</td>\n",
       "      <td>1567700</td>\n",
       "      <td>1664928000000</td>\n",
       "      <td>A</td>\n",
       "    </tr>\n",
       "    <tr>\n",
       "      <th>4</th>\n",
       "      <td>132.102986</td>\n",
       "      <td>133.620727</td>\n",
       "      <td>131.404031</td>\n",
       "      <td>131.983154</td>\n",
       "      <td>1218400</td>\n",
       "      <td>1665014400000</td>\n",
       "      <td>A</td>\n",
       "    </tr>\n",
       "  </tbody>\n",
       "</table>\n",
       "</div>"
      ],
      "text/plain": [
       "         Open        High         Low       Close   Volume           Date  \\\n",
       "0  122.624578  124.727797   120.98985  121.159309  1624200  1664496000000   \n",
       "1  122.547237  127.110431  121.498798  126.191795  1343200  1664755200000   \n",
       "2  128.598201   131.36408  128.378543   131.21431  1647800  1664841600000   \n",
       "3  129.796427  133.331148  129.307151  132.442474  1567700  1664928000000   \n",
       "4  132.102986  133.620727  131.404031  131.983154  1218400  1665014400000   \n",
       "\n",
       "  Symbol  \n",
       "0      A  \n",
       "1      A  \n",
       "2      A  \n",
       "3      A  \n",
       "4      A  "
      ]
     },
     "execution_count": 8,
     "metadata": {},
     "output_type": "execute_result"
    }
   ],
   "source": [
    "prev_path = os.path.abspath(\"/home/wf1497c/ML/FinNews/data/raw/price_history.json\")\n",
    "prev_hist = pd.read_json(prev_path)\n",
    "prev_hist = prev_hist.T\n",
    "prev_hist.head(5)"
   ]
  },
  {
   "cell_type": "code",
   "execution_count": 13,
   "metadata": {},
   "outputs": [
    {
     "data": {
      "text/plain": [
       "False"
      ]
     },
     "execution_count": 13,
     "metadata": {},
     "output_type": "execute_result"
    }
   ],
   "source": [
    "os.path.isfile(prev_path)"
   ]
  },
  {
   "cell_type": "code",
   "execution_count": 9,
   "metadata": {},
   "outputs": [],
   "source": [
    "def get_prices(symbol, period):\n",
    "    '''\n",
    "    get price history of single stock\n",
    "    symbol: int. Symbol of the stock to collect, e.g. MSFT for Microsoft\n",
    "    period: str. Indicate period of collected data\n",
    "    return: DataFrame. Price history of the stock\n",
    "    '''\n",
    "    s = yf.Ticker(symbol)\n",
    "\n",
    "    # collect price history within the period\n",
    "    hist = s.history(period=period)\n",
    "\n",
    "    # drop redundent columns and add Date column\n",
    "    try:\n",
    "        hist.drop(columns=[\"Dividends\",\t\"Stock Splits\"], inplace=True)\n",
    "    except:\n",
    "        print(\"Error: Symbol is in valid!\")\n",
    "\n",
    "    hist[\"Date\"] = hist.index.date\n",
    "    hist[\"Symbol\"] = symbol\n",
    "\n",
    "    return hist"
   ]
  },
  {
   "cell_type": "code",
   "execution_count": 10,
   "metadata": {},
   "outputs": [
    {
     "data": {
      "text/plain": [
       "320"
      ]
     },
     "execution_count": 10,
     "metadata": {},
     "output_type": "execute_result"
    }
   ],
   "source": [
    "len(prev_hist)"
   ]
  },
  {
   "cell_type": "code",
   "execution_count": 11,
   "metadata": {},
   "outputs": [
    {
     "data": {
      "text/plain": [
       "325"
      ]
     },
     "execution_count": 11,
     "metadata": {},
     "output_type": "execute_result"
    }
   ],
   "source": [
    "for symbol in valid_stocks_list:\n",
    "    hist = get_prices(symbol, period)\n",
    "    prev_hist = pd.concat([prev_hist, hist], ignore_index=True)\n",
    "\n",
    "len(prev_hist)"
   ]
  }
 ],
 "metadata": {
  "kernelspec": {
   "display_name": "yfin",
   "language": "python",
   "name": "python3"
  },
  "language_info": {
   "codemirror_mode": {
    "name": "ipython",
    "version": 3
   },
   "file_extension": ".py",
   "mimetype": "text/x-python",
   "name": "python",
   "nbconvert_exporter": "python",
   "pygments_lexer": "ipython3",
   "version": "3.10.4 (main, Mar 31 2022, 08:41:55) [GCC 7.5.0]"
  },
  "orig_nbformat": 4,
  "vscode": {
   "interpreter": {
    "hash": "31d161b66b469229398f9e34cb92a0cfd6086f2be7054474a598ec749510f71a"
   }
  }
 },
 "nbformat": 4,
 "nbformat_minor": 2
}
